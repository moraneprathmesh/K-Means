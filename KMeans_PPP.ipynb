{
 "cells": [
  {
   "cell_type": "code",
   "execution_count": 1,
   "metadata": {},
   "outputs": [],
   "source": [
    "#Here we loaded the libraries..!\n",
    "import pandas as pd\n",
    "import numpy as np\n",
    "import matplotlib.pyplot as plt                    \n"
   ]
  },
  {
   "cell_type": "code",
   "execution_count": 2,
   "metadata": {},
   "outputs": [],
   "source": [
    "df = pd.read_csv(r'C:\\Users\\moran\\Desktop\\Datasets\\Telco - Telco.csv')"
   ]
  },
  {
   "cell_type": "code",
   "execution_count": 3,
   "metadata": {},
   "outputs": [
    {
     "data": {
      "text/html": [
       "<div>\n",
       "<style scoped>\n",
       "    .dataframe tbody tr th:only-of-type {\n",
       "        vertical-align: middle;\n",
       "    }\n",
       "\n",
       "    .dataframe tbody tr th {\n",
       "        vertical-align: top;\n",
       "    }\n",
       "\n",
       "    .dataframe thead th {\n",
       "        text-align: right;\n",
       "    }\n",
       "</style>\n",
       "<table border=\"1\" class=\"dataframe\">\n",
       "  <thead>\n",
       "    <tr style=\"text-align: right;\">\n",
       "      <th></th>\n",
       "      <th>Calls</th>\n",
       "      <th>Intern</th>\n",
       "      <th>Text</th>\n",
       "      <th>Data</th>\n",
       "      <th>Age</th>\n",
       "    </tr>\n",
       "  </thead>\n",
       "  <tbody>\n",
       "    <tr>\n",
       "      <th>0</th>\n",
       "      <td>1.12</td>\n",
       "      <td>0.19</td>\n",
       "      <td>23.92</td>\n",
       "      <td>0.18</td>\n",
       "      <td>60</td>\n",
       "    </tr>\n",
       "    <tr>\n",
       "      <th>1</th>\n",
       "      <td>1.08</td>\n",
       "      <td>0.22</td>\n",
       "      <td>17.76</td>\n",
       "      <td>0.23</td>\n",
       "      <td>54</td>\n",
       "    </tr>\n",
       "    <tr>\n",
       "      <th>2</th>\n",
       "      <td>3.54</td>\n",
       "      <td>0.26</td>\n",
       "      <td>289.79</td>\n",
       "      <td>1.99</td>\n",
       "      <td>34</td>\n",
       "    </tr>\n",
       "    <tr>\n",
       "      <th>3</th>\n",
       "      <td>1.09</td>\n",
       "      <td>0.21</td>\n",
       "      <td>19.15</td>\n",
       "      <td>0.21</td>\n",
       "      <td>61</td>\n",
       "    </tr>\n",
       "    <tr>\n",
       "      <th>4</th>\n",
       "      <td>1.04</td>\n",
       "      <td>0.24</td>\n",
       "      <td>20.33</td>\n",
       "      <td>0.20</td>\n",
       "      <td>56</td>\n",
       "    </tr>\n",
       "  </tbody>\n",
       "</table>\n",
       "</div>"
      ],
      "text/plain": [
       "   Calls  Intern    Text  Data  Age\n",
       "0   1.12    0.19   23.92  0.18   60\n",
       "1   1.08    0.22   17.76  0.23   54\n",
       "2   3.54    0.26  289.79  1.99   34\n",
       "3   1.09    0.21   19.15  0.21   61\n",
       "4   1.04    0.24   20.33  0.20   56"
      ]
     },
     "execution_count": 3,
     "metadata": {},
     "output_type": "execute_result"
    }
   ],
   "source": [
    "df.head()"
   ]
  },
  {
   "cell_type": "code",
   "execution_count": 4,
   "metadata": {},
   "outputs": [],
   "source": [
    "#scaling the Data..!"
   ]
  },
  {
   "cell_type": "code",
   "execution_count": 5,
   "metadata": {},
   "outputs": [
    {
     "ename": "SyntaxError",
     "evalue": "invalid syntax (Temp/ipykernel_10516/1936198002.py, line 1)",
     "output_type": "error",
     "traceback": [
      "\u001b[1;36m  File \u001b[1;32m\"C:\\Users\\moran\\AppData\\Local\\Temp/ipykernel_10516/1936198002.py\"\u001b[1;36m, line \u001b[1;32m1\u001b[0m\n\u001b[1;33m    df=df.apply(lamda x: (x-np.mean(x))/np.std(x))\u001b[0m\n\u001b[1;37m                      ^\u001b[0m\n\u001b[1;31mSyntaxError\u001b[0m\u001b[1;31m:\u001b[0m invalid syntax\n"
     ]
    }
   ],
   "source": [
    "df=df.apply(lamda x: (x-np.mean(x))/np.std(x))"
   ]
  },
  {
   "cell_type": "code",
   "execution_count": 6,
   "metadata": {},
   "outputs": [
    {
     "data": {
      "text/plain": [
       "Calls         2.299963\n",
       "Intern        0.142560\n",
       "Text      45719.637647\n",
       "Data          1.889135\n",
       "Age         262.288112\n",
       "dtype: float64"
      ]
     },
     "execution_count": 6,
     "metadata": {},
     "output_type": "execute_result"
    }
   ],
   "source": [
    "df.var()"
   ]
  },
  {
   "cell_type": "code",
   "execution_count": 7,
   "metadata": {},
   "outputs": [],
   "source": [
    "import scipy\n",
    "from scipy.cluster.hierarchy import dendrogram,linkage"
   ]
  },
  {
   "cell_type": "code",
   "execution_count": 8,
   "metadata": {},
   "outputs": [],
   "source": [
    "Z=linkage(df,'complete')"
   ]
  },
  {
   "cell_type": "code",
   "execution_count": 9,
   "metadata": {},
   "outputs": [],
   "source": [
    "Z=linkage(df,'single')"
   ]
  },
  {
   "cell_type": "code",
   "execution_count": 10,
   "metadata": {},
   "outputs": [
    {
     "data": {
      "image/png": "[encoded data removed]",
      "text/plain": [
       "<Figure size 432x288 with 1 Axes>"
      ]
     },
     "metadata": {
      "needs_background": "light"
     },
     "output_type": "display_data"
    }
   ],
   "source": [
    "Z=linkage(df,'single')\n",
    "dendrogram(Z,leaf_rotation=90,leaf_font_size=1.)\n",
    "plt.title(\"Dendrogram\")\n",
    "plt.xlabel('Cluster Size')\n",
    "plt.ylabel('Distance')\n",
    "\n",
    "plt.show()"
   ]
  },
  {
   "cell_type": "code",
   "execution_count": 11,
   "metadata": {},
   "outputs": [
    {
     "data": {
      "image/png": "[encoded data removed]",
      "text/plain": [
       "<Figure size 432x288 with 1 Axes>"
      ]
     },
     "metadata": {
      "needs_background": "light"
     },
     "output_type": "display_data"
    }
   ],
   "source": [
    "dendrogram (Z,truncate_mode='lastp',p=30,leaf_rotation=90,leaf_font_size=10.)\n",
    "plt.title(\"Truncated Dendrogram\")\n",
    "plt.xlabel('Cluster Size')\n",
    "plt.ylabel('Distance')\n",
    "\n",
    "plt.show()"
   ]
  },
  {
   "cell_type": "code",
   "execution_count": null,
   "metadata": {},
   "outputs": [],
   "source": [
    "#Aggiomerative Hierachichal Clustering..!"
   ]
  },
  {
   "cell_type": "code",
   "execution_count": 22,
   "metadata": {},
   "outputs": [],
   "source": [
    "import sklearn\n",
    "from sklearn.cluster import AgglomerativeClustering"
   ]
  },
  {
   "cell_type": "code",
   "execution_count": 24,
   "metadata": {},
   "outputs": [],
   "source": [
    "hclust=AgglomerativeClustering(n_clusters=5,affinity='euclidean',linkage='complete')"
   ]
  },
  {
   "cell_type": "code",
   "execution_count": 25,
   "metadata": {},
   "outputs": [
    {
     "data": {
      "text/plain": [
       "AgglomerativeClustering(linkage='complete', n_clusters=5)"
      ]
     },
     "execution_count": 25,
     "metadata": {},
     "output_type": "execute_result"
    }
   ],
   "source": [
    "hclust.fit(df)"
   ]
  },
  {
   "cell_type": "code",
   "execution_count": 27,
   "metadata": {},
   "outputs": [
    {
     "data": {
      "text/plain": [
       "array([0, 0, 1, 0, 0, 0, 0, 1, 1, 0, 0, 0, 0, 4, 0, 4, 1, 4, 0, 2, 2, 0,\n",
       "       2, 4, 4, 1, 0, 0, 0, 0, 2, 0, 4, 0, 0, 2, 0, 0, 0, 0, 0, 3, 0, 1,\n",
       "       0, 0, 0, 0, 0, 0, 0, 0, 2, 0, 0, 0, 0, 2, 4, 0, 4, 2, 0, 1, 3, 4,\n",
       "       4, 0, 1, 0, 3, 0, 0, 3, 0, 0, 3, 4, 1, 3, 1, 2, 0, 1, 0, 1, 4, 0,\n",
       "       1, 1, 0, 0, 0, 0, 0, 2, 4, 1, 4, 2, 0, 0, 1, 2, 0, 0, 4, 0, 1, 0,\n",
       "       0, 1, 4, 0, 0, 0, 2, 0, 0, 4, 0, 0, 1, 0, 3, 0, 0, 0, 0, 1, 2, 2,\n",
       "       1, 0, 0, 0, 1, 4, 0, 0, 1, 0, 1, 0, 0, 0, 2, 1, 0, 0, 2, 4, 3, 2,\n",
       "       1, 0, 0, 1, 2, 4, 0, 0, 0, 0, 0, 1, 4, 1, 0, 1, 0, 0, 0, 0, 4, 0,\n",
       "       1, 0, 0, 2, 1, 2, 4, 1, 1, 0, 0, 1, 0, 4, 4, 0, 0, 1, 1, 0, 0, 2,\n",
       "       0, 4, 4, 2, 0, 4, 1, 4, 1, 0, 0, 0, 2, 2, 0, 4, 0, 1, 4, 4, 0, 3,\n",
       "       0, 3, 0, 0, 1, 1, 0, 1, 0, 1, 2, 2, 4, 0, 4, 0, 0, 1, 0, 4, 1, 2,\n",
       "       4, 3, 4, 4, 2, 0, 0, 4, 4, 0, 0, 0, 0, 2, 0, 0, 0, 0, 0, 2, 0, 4,\n",
       "       4, 0, 0, 0, 4, 2, 4, 1, 2, 0, 0, 0, 0, 0, 2, 4, 1, 0, 1, 0, 2, 0,\n",
       "       2, 3, 4, 0, 4, 2, 1, 4, 0, 0, 0, 4, 4, 1, 0, 1, 0, 0, 0, 4, 2, 0,\n",
       "       0, 0, 2, 0, 1, 0, 1, 0, 1, 2, 2, 0, 2, 1, 0, 0, 0, 0, 2, 0, 0, 0,\n",
       "       0, 0, 3, 4, 1, 1, 3, 0, 0, 2, 4, 0, 4, 2, 4, 0, 4, 2, 1, 0, 0, 0,\n",
       "       4, 0, 4, 0, 0, 0, 0, 4, 0, 2, 0, 4, 4, 2, 0, 1, 2, 0, 1, 0, 1, 2,\n",
       "       0, 0, 3, 4, 0, 4, 4, 4, 0, 3, 0, 0, 1, 0, 2, 2, 4, 4, 2, 2, 0, 0,\n",
       "       4, 2, 4, 4, 0, 0, 4, 1, 2, 3, 0, 0, 4, 0, 0, 0, 1, 0, 0, 0, 0, 4,\n",
       "       4, 1, 0, 0, 0, 0, 0, 0, 2, 4, 1, 2, 4, 0, 0, 2, 0, 1, 0, 3, 2, 0,\n",
       "       1, 0, 0, 0, 0, 0, 2, 0, 0, 0, 0, 3, 0, 2, 1, 4, 2, 2, 0, 1, 4, 0,\n",
       "       2, 0, 0, 0, 0, 0, 0, 4, 0, 4, 1, 2, 0, 3, 0, 2, 3, 0, 1, 2, 0, 0,\n",
       "       0, 2, 2, 2, 0, 4, 0, 0, 0, 1, 1, 4, 0, 0, 0, 0, 1, 1, 1, 1, 0, 0,\n",
       "       0, 2, 0, 0, 4, 0, 1, 1, 0, 3, 0, 1, 0, 0, 1, 0, 4, 1, 0, 4, 0, 4,\n",
       "       1, 4, 3, 3, 2, 0, 0, 0, 0, 2, 1, 2, 4, 0, 0, 2, 0, 1, 0, 1, 4, 0,\n",
       "       1, 2, 0, 0, 1, 3, 0, 0, 0, 1, 2, 0, 0, 0, 1, 0, 0, 0, 2, 1, 4, 2,\n",
       "       2, 4, 1, 0, 1, 0, 3, 1, 1, 0, 1, 0, 0, 2, 4, 0, 0, 0, 0, 4, 1, 4,\n",
       "       0, 1, 0, 2, 2, 0, 0, 4, 0, 1, 4, 0, 4, 0, 0, 3, 4, 0, 1, 3, 2, 0,\n",
       "       1, 0, 0, 0, 0, 0, 0, 2, 2, 0, 0, 2, 4, 0, 0, 0, 3, 0, 1, 1, 1, 0,\n",
       "       3, 0, 0, 0, 0, 0, 4, 0, 0, 2, 0, 1, 2, 0, 0, 2, 0, 0, 1, 0, 1, 2,\n",
       "       0, 1, 0, 1, 4, 0, 4, 1, 1, 0, 0, 2, 3, 0, 1, 2, 3, 2, 2, 1, 4, 4,\n",
       "       0, 4, 0, 0, 2, 0, 0, 4, 0, 3, 0, 0, 2, 1, 0, 3, 0, 0, 0, 1, 0, 1,\n",
       "       0, 4, 4, 3, 4, 2, 2, 0, 2, 0, 2, 3, 0, 2, 1, 0, 0, 2, 0, 2, 0, 3,\n",
       "       0, 0, 2, 0, 2, 0, 4, 4, 1, 0, 1, 0, 3, 0, 4, 0, 0, 0, 0, 1, 1, 1,\n",
       "       4, 0, 0, 0, 0, 0, 1, 1, 0, 0, 0, 2, 1, 0, 1, 0, 3, 0, 0, 4, 2, 0,\n",
       "       0, 0, 0, 2, 0, 2, 2, 0, 0, 1, 3, 0, 1, 0, 2, 1, 0, 3, 1, 4, 0, 0,\n",
       "       0, 2, 3, 1, 0, 1, 2, 3, 0, 0, 1, 2, 0, 0, 1, 0, 1, 1, 0, 2, 0, 2,\n",
       "       0, 4, 4, 1, 0, 0, 0, 4, 1, 2, 1, 0, 0, 1, 0, 4, 0, 1, 1, 0, 2, 4,\n",
       "       0, 4, 1, 4, 0, 4, 1, 0, 0, 0, 4, 2, 4, 0, 0, 1, 0, 0, 1, 0, 4, 3,\n",
       "       0, 4, 0, 0, 3, 0, 0, 0, 0, 0, 4, 0, 2, 0, 1, 0, 0, 4, 0, 1, 0, 1,\n",
       "       2, 2, 4, 4, 4, 0, 2, 0, 1, 0, 0, 0, 0, 0, 0, 2, 0, 2, 0, 0, 4, 0,\n",
       "       1, 1, 0, 0, 0, 0, 1, 4, 0, 0, 0, 0, 4, 1, 0, 1, 4, 0, 2, 0, 0, 0,\n",
       "       4, 1, 0, 4, 0, 4, 0, 1, 0, 0, 0, 0, 1, 1, 4, 0, 0, 1, 1, 0, 2, 0,\n",
       "       0, 0, 0, 0, 2, 1, 1, 0, 4, 1, 1, 3, 4, 2, 1, 3, 0, 2, 1, 3, 2, 4,\n",
       "       0, 4, 2, 1, 4, 0, 0, 4, 0, 2, 0, 4, 0, 0, 3, 1, 4, 0, 1, 0, 0, 4,\n",
       "       4, 2, 0, 2, 2, 4, 0, 4, 1, 0], dtype=int64)"
      ]
     },
     "execution_count": 27,
     "metadata": {},
     "output_type": "execute_result"
    }
   ],
   "source": [
    "hclust.labels_"
   ]
  },
  {
   "cell_type": "code",
   "execution_count": 28,
   "metadata": {},
   "outputs": [],
   "source": [
    "df['Groups']=hclust.labels_"
   ]
  },
  {
   "cell_type": "code",
   "execution_count": 29,
   "metadata": {},
   "outputs": [
    {
     "data": {
      "text/html": [
       "<div>\n",
       "<style scoped>\n",
       "    .dataframe tbody tr th:only-of-type {\n",
       "        vertical-align: middle;\n",
       "    }\n",
       "\n",
       "    .dataframe tbody tr th {\n",
       "        vertical-align: top;\n",
       "    }\n",
       "\n",
       "    .dataframe thead th {\n",
       "        text-align: right;\n",
       "    }\n",
       "</style>\n",
       "<table border=\"1\" class=\"dataframe\">\n",
       "  <thead>\n",
       "    <tr style=\"text-align: right;\">\n",
       "      <th></th>\n",
       "      <th>Calls</th>\n",
       "      <th>Intern</th>\n",
       "      <th>Text</th>\n",
       "      <th>Data</th>\n",
       "      <th>Age</th>\n",
       "    </tr>\n",
       "    <tr>\n",
       "      <th>Groups</th>\n",
       "      <th></th>\n",
       "      <th></th>\n",
       "      <th></th>\n",
       "      <th></th>\n",
       "      <th></th>\n",
       "    </tr>\n",
       "  </thead>\n",
       "  <tbody>\n",
       "    <tr>\n",
       "      <th>0</th>\n",
       "      <td>2.869262</td>\n",
       "      <td>0.508340</td>\n",
       "      <td>25.077828</td>\n",
       "      <td>1.028094</td>\n",
       "      <td>49.293033</td>\n",
       "    </tr>\n",
       "    <tr>\n",
       "      <th>1</th>\n",
       "      <td>3.182312</td>\n",
       "      <td>0.367225</td>\n",
       "      <td>314.120751</td>\n",
       "      <td>2.057283</td>\n",
       "      <td>32.277457</td>\n",
       "    </tr>\n",
       "    <tr>\n",
       "      <th>2</th>\n",
       "      <td>1.965072</td>\n",
       "      <td>0.173696</td>\n",
       "      <td>464.425580</td>\n",
       "      <td>3.446594</td>\n",
       "      <td>21.608696</td>\n",
       "    </tr>\n",
       "    <tr>\n",
       "      <th>3</th>\n",
       "      <td>2.459592</td>\n",
       "      <td>0.901020</td>\n",
       "      <td>212.618163</td>\n",
       "      <td>1.892653</td>\n",
       "      <td>38.877551</td>\n",
       "    </tr>\n",
       "    <tr>\n",
       "      <th>4</th>\n",
       "      <td>1.891382</td>\n",
       "      <td>0.165263</td>\n",
       "      <td>552.182105</td>\n",
       "      <td>3.544474</td>\n",
       "      <td>21.381579</td>\n",
       "    </tr>\n",
       "  </tbody>\n",
       "</table>\n",
       "</div>"
      ],
      "text/plain": [
       "           Calls    Intern        Text      Data        Age\n",
       "Groups                                                     \n",
       "0       2.869262  0.508340   25.077828  1.028094  49.293033\n",
       "1       3.182312  0.367225  314.120751  2.057283  32.277457\n",
       "2       1.965072  0.173696  464.425580  3.446594  21.608696\n",
       "3       2.459592  0.901020  212.618163  1.892653  38.877551\n",
       "4       1.891382  0.165263  552.182105  3.544474  21.381579"
      ]
     },
     "execution_count": 29,
     "metadata": {},
     "output_type": "execute_result"
    }
   ],
   "source": [
    "df.groupby(['Groups']).mean()"
   ]
  },
  {
   "cell_type": "code",
   "execution_count": null,
   "metadata": {},
   "outputs": [],
   "source": [
    "#Here we imported KMeans from Sklearn..!"
   ]
  },
  {
   "cell_type": "code",
   "execution_count": 31,
   "metadata": {},
   "outputs": [],
   "source": [
    "from sklearn.cluster import KMeans"
   ]
  },
  {
   "cell_type": "code",
   "execution_count": 34,
   "metadata": {},
   "outputs": [],
   "source": [
    "km=KMeans(n_clusters=5,n_init=40)"
   ]
  },
  {
   "cell_type": "code",
   "execution_count": 35,
   "metadata": {},
   "outputs": [
    {
     "data": {
      "text/plain": [
       "KMeans(n_clusters=5, n_init=40)"
      ]
     },
     "execution_count": 35,
     "metadata": {},
     "output_type": "execute_result"
    }
   ],
   "source": [
    "km.fit(df)"
   ]
  },
  {
   "cell_type": "code",
   "execution_count": 37,
   "metadata": {},
   "outputs": [],
   "source": [
    "df['Groups']=km.labels_"
   ]
  },
  {
   "cell_type": "code",
   "execution_count": 40,
   "metadata": {},
   "outputs": [
    {
     "data": {
      "text/html": [
       "<div>\n",
       "<style scoped>\n",
       "    .dataframe tbody tr th:only-of-type {\n",
       "        vertical-align: middle;\n",
       "    }\n",
       "\n",
       "    .dataframe tbody tr th {\n",
       "        vertical-align: top;\n",
       "    }\n",
       "\n",
       "    .dataframe thead th {\n",
       "        text-align: right;\n",
       "    }\n",
       "</style>\n",
       "<table border=\"1\" class=\"dataframe\">\n",
       "  <thead>\n",
       "    <tr style=\"text-align: right;\">\n",
       "      <th></th>\n",
       "      <th>Calls</th>\n",
       "      <th>Intern</th>\n",
       "      <th>Text</th>\n",
       "      <th>Data</th>\n",
       "      <th>Age</th>\n",
       "    </tr>\n",
       "    <tr>\n",
       "      <th>Groups</th>\n",
       "      <th></th>\n",
       "      <th></th>\n",
       "      <th></th>\n",
       "      <th></th>\n",
       "      <th></th>\n",
       "    </tr>\n",
       "  </thead>\n",
       "  <tbody>\n",
       "    <tr>\n",
       "      <th>0</th>\n",
       "      <td>2.840524</td>\n",
       "      <td>0.504465</td>\n",
       "      <td>22.511950</td>\n",
       "      <td>1.008595</td>\n",
       "      <td>49.716981</td>\n",
       "    </tr>\n",
       "    <tr>\n",
       "      <th>1</th>\n",
       "      <td>2.012214</td>\n",
       "      <td>0.189929</td>\n",
       "      <td>461.747929</td>\n",
       "      <td>3.390143</td>\n",
       "      <td>21.942857</td>\n",
       "    </tr>\n",
       "    <tr>\n",
       "      <th>2</th>\n",
       "      <td>1.890844</td>\n",
       "      <td>0.164351</td>\n",
       "      <td>551.598377</td>\n",
       "      <td>3.553636</td>\n",
       "      <td>21.402597</td>\n",
       "    </tr>\n",
       "    <tr>\n",
       "      <th>3</th>\n",
       "      <td>3.173432</td>\n",
       "      <td>0.359290</td>\n",
       "      <td>312.274793</td>\n",
       "      <td>2.061657</td>\n",
       "      <td>32.236686</td>\n",
       "    </tr>\n",
       "    <tr>\n",
       "      <th>4</th>\n",
       "      <td>2.763167</td>\n",
       "      <td>0.859833</td>\n",
       "      <td>198.634500</td>\n",
       "      <td>1.889167</td>\n",
       "      <td>37.416667</td>\n",
       "    </tr>\n",
       "  </tbody>\n",
       "</table>\n",
       "</div>"
      ],
      "text/plain": [
       "           Calls    Intern        Text      Data        Age\n",
       "Groups                                                     \n",
       "0       2.840524  0.504465   22.511950  1.008595  49.716981\n",
       "1       2.012214  0.189929  461.747929  3.390143  21.942857\n",
       "2       1.890844  0.164351  551.598377  3.553636  21.402597\n",
       "3       3.173432  0.359290  312.274793  2.061657  32.236686\n",
       "4       2.763167  0.859833  198.634500  1.889167  37.416667"
      ]
     },
     "execution_count": 40,
     "metadata": {},
     "output_type": "execute_result"
    }
   ],
   "source": [
    "df.groupby(['Groups']).mean()"
   ]
  },
  {
   "cell_type": "code",
   "execution_count": null,
   "metadata": {},
   "outputs": [],
   "source": []
  },
  {
   "cell_type": "code",
   "execution_count": 41,
   "metadata": {},
   "outputs": [
    {
     "data": {
      "text/plain": [
       "629203.2246307693"
      ]
     },
     "execution_count": 41,
     "metadata": {},
     "output_type": "execute_result"
    }
   ],
   "source": [
    "#total within Group SSE\n",
    "\n",
    "km.inertia_"
   ]
  },
  {
   "cell_type": "code",
   "execution_count": 48,
   "metadata": {},
   "outputs": [],
   "source": [
    "#calculating within group SSE  for diff  Cluster Soln..!\n",
    "\n",
    "inertias =[]\n",
    "for k in[2,3,4,5,6,7,8,9,10,11,12]:\n",
    "    km=KMeans(n_clusters=k,n_init=40)\n",
    "    inertia=km.fit(df).inertia_\n",
    "    inertias.append(inertia)"
   ]
  },
  {
   "cell_type": "code",
   "execution_count": 49,
   "metadata": {},
   "outputs": [
    {
     "data": {
      "text/plain": [
       "<function matplotlib.pyplot.show(close=None, block=None)>"
      ]
     },
     "execution_count": 49,
     "metadata": {},
     "output_type": "execute_result"
    },
    {
     "data": {
      "image/png": "[encoded data removed]",
      "text/plain": [
       "<Figure size 432x288 with 1 Axes>"
      ]
     },
     "metadata": {
      "needs_background": "light"
     },
     "output_type": "display_data"
    }
   ],
   "source": [
    "#plotting the scree plot\n",
    "\n",
    "plt.plot([2,3,4,5,6,7,8,9,10,11,12],inertias)\n",
    "plt.show"
   ]
  },
  {
   "cell_type": "code",
   "execution_count": null,
   "metadata": {},
   "outputs": [],
   "source": []
  }
 ],
 "metadata": {
  "kernelspec": {
   "display_name": "Python 3 (ipykernel)",
   "language": "python",
   "name": "python3"
  },
  "language_info": {
   "codemirror_mode": {
    "name": "ipython",
    "version": 3
   },
   "file_extension": ".py",
   "mimetype": "text/x-python",
   "name": "python",
   "nbconvert_exporter": "python",
   "pygments_lexer": "ipython3",
   "version": "3.9.7"
  }
 },
 "nbformat": 4,
 "nbformat_minor": 2
}
